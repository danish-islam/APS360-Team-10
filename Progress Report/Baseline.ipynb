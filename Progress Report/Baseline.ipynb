{
  "nbformat": 4,
  "nbformat_minor": 0,
  "metadata": {
    "colab": {
      "provenance": []
    },
    "kernelspec": {
      "name": "python3",
      "display_name": "Python 3"
    },
    "language_info": {
      "name": "python"
    }
  },
  "cells": [
    {
      "cell_type": "code",
      "source": [
        "!pip install mediapipe"
      ],
      "metadata": {
        "colab": {
          "base_uri": "https://localhost:8080/"
        },
        "id": "ksbChH5geCkr",
        "outputId": "9631c437-da84-40ca-a3bd-1613500e503c"
      },
      "execution_count": 2,
      "outputs": [
        {
          "output_type": "stream",
          "name": "stdout",
          "text": [
            "Collecting mediapipe\n",
            "  Downloading mediapipe-0.10.11-cp310-cp310-manylinux_2_17_x86_64.manylinux2014_x86_64.whl (35.6 MB)\n",
            "\u001b[2K     \u001b[90m━━━━━━━━━━━━━━━━━━━━━━━━━━━━━━━━━━━━━━━━\u001b[0m \u001b[32m35.6/35.6 MB\u001b[0m \u001b[31m32.7 MB/s\u001b[0m eta \u001b[36m0:00:00\u001b[0m\n",
            "\u001b[?25hRequirement already satisfied: absl-py in /usr/local/lib/python3.10/dist-packages (from mediapipe) (1.4.0)\n",
            "Requirement already satisfied: attrs>=19.1.0 in /usr/local/lib/python3.10/dist-packages (from mediapipe) (23.2.0)\n",
            "Requirement already satisfied: flatbuffers>=2.0 in /usr/local/lib/python3.10/dist-packages (from mediapipe) (23.5.26)\n",
            "Requirement already satisfied: jax in /usr/local/lib/python3.10/dist-packages (from mediapipe) (0.4.23)\n",
            "Requirement already satisfied: jaxlib in /usr/local/lib/python3.10/dist-packages (from mediapipe) (0.4.23+cuda12.cudnn89)\n",
            "Requirement already satisfied: matplotlib in /usr/local/lib/python3.10/dist-packages (from mediapipe) (3.7.1)\n",
            "Requirement already satisfied: numpy in /usr/local/lib/python3.10/dist-packages (from mediapipe) (1.25.2)\n",
            "Requirement already satisfied: torch in /usr/local/lib/python3.10/dist-packages (from mediapipe) (2.1.0+cu121)\n",
            "Requirement already satisfied: opencv-contrib-python in /usr/local/lib/python3.10/dist-packages (from mediapipe) (4.8.0.76)\n",
            "Requirement already satisfied: protobuf<4,>=3.11 in /usr/local/lib/python3.10/dist-packages (from mediapipe) (3.20.3)\n",
            "Collecting sounddevice>=0.4.4 (from mediapipe)\n",
            "  Downloading sounddevice-0.4.6-py3-none-any.whl (31 kB)\n",
            "Requirement already satisfied: CFFI>=1.0 in /usr/local/lib/python3.10/dist-packages (from sounddevice>=0.4.4->mediapipe) (1.16.0)\n",
            "Requirement already satisfied: ml-dtypes>=0.2.0 in /usr/local/lib/python3.10/dist-packages (from jax->mediapipe) (0.2.0)\n",
            "Requirement already satisfied: opt-einsum in /usr/local/lib/python3.10/dist-packages (from jax->mediapipe) (3.3.0)\n",
            "Requirement already satisfied: scipy>=1.9 in /usr/local/lib/python3.10/dist-packages (from jax->mediapipe) (1.11.4)\n",
            "Requirement already satisfied: contourpy>=1.0.1 in /usr/local/lib/python3.10/dist-packages (from matplotlib->mediapipe) (1.2.0)\n",
            "Requirement already satisfied: cycler>=0.10 in /usr/local/lib/python3.10/dist-packages (from matplotlib->mediapipe) (0.12.1)\n",
            "Requirement already satisfied: fonttools>=4.22.0 in /usr/local/lib/python3.10/dist-packages (from matplotlib->mediapipe) (4.49.0)\n",
            "Requirement already satisfied: kiwisolver>=1.0.1 in /usr/local/lib/python3.10/dist-packages (from matplotlib->mediapipe) (1.4.5)\n",
            "Requirement already satisfied: packaging>=20.0 in /usr/local/lib/python3.10/dist-packages (from matplotlib->mediapipe) (23.2)\n",
            "Requirement already satisfied: pillow>=6.2.0 in /usr/local/lib/python3.10/dist-packages (from matplotlib->mediapipe) (9.4.0)\n",
            "Requirement already satisfied: pyparsing>=2.3.1 in /usr/local/lib/python3.10/dist-packages (from matplotlib->mediapipe) (3.1.1)\n",
            "Requirement already satisfied: python-dateutil>=2.7 in /usr/local/lib/python3.10/dist-packages (from matplotlib->mediapipe) (2.8.2)\n",
            "Requirement already satisfied: filelock in /usr/local/lib/python3.10/dist-packages (from torch->mediapipe) (3.13.1)\n",
            "Requirement already satisfied: typing-extensions in /usr/local/lib/python3.10/dist-packages (from torch->mediapipe) (4.10.0)\n",
            "Requirement already satisfied: sympy in /usr/local/lib/python3.10/dist-packages (from torch->mediapipe) (1.12)\n",
            "Requirement already satisfied: networkx in /usr/local/lib/python3.10/dist-packages (from torch->mediapipe) (3.2.1)\n",
            "Requirement already satisfied: jinja2 in /usr/local/lib/python3.10/dist-packages (from torch->mediapipe) (3.1.3)\n",
            "Requirement already satisfied: fsspec in /usr/local/lib/python3.10/dist-packages (from torch->mediapipe) (2023.6.0)\n",
            "Requirement already satisfied: triton==2.1.0 in /usr/local/lib/python3.10/dist-packages (from torch->mediapipe) (2.1.0)\n",
            "Requirement already satisfied: pycparser in /usr/local/lib/python3.10/dist-packages (from CFFI>=1.0->sounddevice>=0.4.4->mediapipe) (2.21)\n",
            "Requirement already satisfied: six>=1.5 in /usr/local/lib/python3.10/dist-packages (from python-dateutil>=2.7->matplotlib->mediapipe) (1.16.0)\n",
            "Requirement already satisfied: MarkupSafe>=2.0 in /usr/local/lib/python3.10/dist-packages (from jinja2->torch->mediapipe) (2.1.5)\n",
            "Requirement already satisfied: mpmath>=0.19 in /usr/local/lib/python3.10/dist-packages (from sympy->torch->mediapipe) (1.3.0)\n",
            "Installing collected packages: sounddevice, mediapipe\n",
            "Successfully installed mediapipe-0.10.11 sounddevice-0.4.6\n"
          ]
        }
      ]
    },
    {
      "cell_type": "code",
      "execution_count": 8,
      "metadata": {
        "colab": {
          "base_uri": "https://localhost:8080/"
        },
        "id": "A-sCuA_SYGP_",
        "outputId": "de7d72d0-07ab-4370-8435-19a9edfcfdc0"
      },
      "outputs": [
        {
          "output_type": "stream",
          "name": "stdout",
          "text": [
            "Drive already mounted at /content/drive; to attempt to forcibly remount, call drive.mount(\"/content/drive\", force_remount=True).\n"
          ]
        }
      ],
      "source": [
        "#baseline model for aps 360 project using landmark detection\n",
        "\n",
        "#create dataset\n",
        "import mediapipe as mp\n",
        "import pickle\n",
        "import cv2\n",
        "import os\n",
        "import matplotlib.pyplot as plt\n",
        "\n",
        "from google.colab import drive\n",
        "drive.mount('/content/drive')\n",
        "\n",
        "mp_hands = mp.solutions.hands\n",
        "mp_drawing = mp.solutions.drawing_utils\n",
        "mp_drawing_styles = mp.solutions.drawing_styles\n",
        "\n",
        "hands = mp_hands.Hands(static_image_mode = True, min_detection_confidence = 0.3)\n",
        "\n",
        "DATA_DIR = '/content/drive/MyDrive/Subset'#change later\n",
        "\n",
        "data = []\n",
        "labels = []\n",
        "\n",
        "for dir in os.listdir(DATA_DIR):\n",
        "  for img_path in os.listdir(os.path.join(DATA_DIR, dir)): #writing the directory name into the image file name\n",
        "\n",
        "    #create an array that stores the x and y coords of each landmark in each img\n",
        "    data_aux = [] #each image gets its own array storing the x and y coords of the landmarks in that img\n",
        "\n",
        "    img = cv2.imread(os.path.join(DATA_DIR, dir, img_path))\n",
        "    img_rgb = cv2.cvtColor(img, cv2.COLOR_BGR2RGB)#images must be rgb to work with media pipe, gotta convert from bgr to rgb, REMOVE LATER\n",
        "\n",
        "    results = hands.process(img_rgb)\n",
        "    if results.multi_hand_landmarks:#if a hand is detected in an image\n",
        "      for hand_landmarks in results.multi_hand_landmarks:\n",
        "        for i in range(len(hand_landmarks.landmark)):\n",
        "\n",
        "          #storing landmark coordinates in the array\n",
        "          x = hand_landmarks.landmark[i].x\n",
        "          y = hand_landmarks.landmark[i].y\n",
        "          data_aux.append(x)\n",
        "          data_aux.append(y)\n",
        "\n",
        "      data.append(data_aux) #append the array of landmarks into the data array\n",
        "      labels.append(dir) #CHANGE but basically the foldername is the label aka all A images in are in a folder called A\n",
        "\n",
        "\n",
        "#save the data\n",
        "\n",
        "data_path = '/content/drive/MyDrive/data.pickle'\n",
        "with open(data_path, 'wb') as f:\n",
        "    pickle.dump({'data': data, 'labels': labels}, f)\n",
        "f.close()\n"
      ]
    },
    {
      "cell_type": "code",
      "source": [
        "#train classifier, we are going to use a random forest classifier on the landmarks\n",
        "\n",
        "import pickle\n",
        "import numpy as np\n",
        "from sklearn.ensemble import RandomForestClassifier\n",
        "from sklearn.model_selection import train_test_split\n",
        "from sklearn.metrics import accuracy_score\n",
        "from tensorflow.keras.preprocessing.sequence import pad_sequences\n",
        "\n",
        "data_path = '/content/drive/MyDrive/data.pickle'\n",
        "data_dict = pickle.load(open(data_path, 'rb')) #read the stored data into a dic\n",
        "\n",
        "#basically restoring the data and labels from their stored form in a dict\n",
        "data = data_dict['data']\n",
        "labels = data_dict['labels']\n",
        "\n",
        "# Pad sequences to ensure each sequence has the same length\n",
        "max_seq_length = max(len(seq) for seq in data)\n",
        "data = pad_sequences(data, maxlen=max_seq_length, padding='post', dtype='float32')\n",
        "data = np.asarray(data)  # Convert padded sequences to numpy array\n",
        "labels = np.asarray(labels)  # Convert labels to numpy array\n",
        "\n",
        "#split data into training and test set (80% train 20% test)\n",
        "data_train, data_test, label_train, label_test = train_test_split(data, labels, test_size = 0.2, shuffle = True, stratify = labels) #split data into training and test sets\n",
        "\n",
        "#literally the model lmao\n",
        "model = RandomForestClassifier()\n",
        "model.fit(data_train, label_train)\n",
        "predictions = model.predict(data_test)\n",
        "\n",
        "accuracy = accuracy_score(predictions, label_test)\n",
        "print('{}% of samples were classified correctly.'.format(accuracy*100))\n"
      ],
      "metadata": {
        "colab": {
          "base_uri": "https://localhost:8080/"
        },
        "id": "x4l6TiNRiK4V",
        "outputId": "916e2032-3076-4ddf-e8a8-dd7b1c9d036a"
      },
      "execution_count": 9,
      "outputs": [
        {
          "output_type": "stream",
          "name": "stdout",
          "text": [
            "89.04290429042905% of samples were classified correctly.\n"
          ]
        }
      ]
    }
  ]
}